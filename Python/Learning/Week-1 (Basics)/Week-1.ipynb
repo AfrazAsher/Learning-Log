{
 "cells": [
  {
   "cell_type": "markdown",
   "metadata": {},
   "source": [
    "## Week 1 (Python Basics)"
   ]
  },
  {
   "cell_type": "code",
   "execution_count": 1,
   "metadata": {},
   "outputs": [
    {
     "name": "stdout",
     "output_type": "stream",
     "text": [
      "Hello World!\n"
     ]
    }
   ],
   "source": [
    "print(\"Hello World!\") #Typical First Thing to Write XD"
   ]
  },
  {
   "cell_type": "markdown",
   "metadata": {},
   "source": [
    "### Variables and Data Types"
   ]
  },
  {
   "cell_type": "code",
   "execution_count": 7,
   "metadata": {},
   "outputs": [
    {
     "name": "stdout",
     "output_type": "stream",
     "text": [
      "Hello Everyone\n",
      "Hello! How are you all?\n"
     ]
    }
   ],
   "source": [
    "Hello_Message = \"Hello Everyone\" \n",
    "# A variable holds a value, which is stored in the memory. it can called by its  name to get the value of that variable a.k.a Variable Name.\n",
    "# A string variable of named  'Hello_Message' is created and assigned the value \"Hello Everyone\".\n",
    "print(Hello_Message) #  The message stored in the 'Hello_Message' variable is printed.\n",
    "\n",
    "Hello_Message = \"Hello! How are you all?\" \n",
    "# The value of the 'Hello_Message' variable is changed to \"Hello! How are you all?\"\n",
    "# We can change the value of a variable in your program at any time and the python interpreter will keep track of all its changes\n",
    "print(Hello_Message)"
   ]
  },
  {
   "cell_type": "markdown",
   "metadata": {},
   "source": [
    "#### DataType (String)"
   ]
  },
  {
   "cell_type": "code",
   "execution_count": 15,
   "metadata": {},
   "outputs": [
    {
     "name": "stdout",
     "output_type": "stream",
     "text": [
      "Hello World!\n",
      "It's a 'beautiful' day!\n",
      "Uppercase: HELLO WORLD!\n",
      "Lowercase: hello world!\n",
      "Capitalized: Hello World!\n",
      "Hello, John Doe!\n",
      "Hello\tJohn Doe\n",
      "How are you doing?\n",
      "\n",
      "Before stripping:\n",
      " \t   This is some text    \n",
      "\n",
      "\n",
      "After stripping:\n",
      " This is some text\n"
     ]
    }
   ],
   "source": [
    "# A string is a sequence of characters. Anything inside in quotes is considered a string in python but in most language, it's not the case. Most languages use double quotes. The way python use it can be very helpful in string manipulation or sometimes confusing to beginners.\n",
    "\n",
    "# To create a simple string we just need to put our text between two single quotes ''. For example:\n",
    "my_string = 'Hello World!'\n",
    "print(my_string) # Output: Hello World!\n",
    "\n",
    "# Double quotes, example:\n",
    "another_string = \"It's a 'beautiful' day!\"\n",
    "# Here we can see, we have used both single and double quotes.\n",
    "print(another_string) # Output: It's a beautiful day!\n",
    "\n",
    "# We can change the case of the String using methods:\n",
    "uppercase_string = my_string.upper()\n",
    "lowercase_string = my_string.lower()\n",
    "capitalized_string = my_string.title()\n",
    "print(\"Uppercase:\", uppercase_string) # Output: UPPERCASE\n",
    "print(\"Lowercase:\", lowercase_string) # Output: lowercase\n",
    "print(\"Capitalized:\", capitalized_string) # Output: Hello World\n",
    "\n",
    "\n",
    "# We can also concatenate strings using the plus sign (+). This will join two or more strings together. Here's an example:\n",
    "# We can also concatenate strings using the + operator. Here's an example:\n",
    "greeting = 'Hello'\n",
    "name = 'John Doe'\n",
    "message = greeting + ', ' + name + '!'\n",
    "print(message) # Output: Hello, John Doe!\n",
    "\n",
    "# we can also add whitespaces to strings with tabs and newline  characters \\n or \\t\n",
    "tabbed_message = greeting + '\\t' + name + '\\n' + \"How are you doing?\"\n",
    "print(tabbed_message)\n",
    "\n",
    "# we can also strip whitespace using methods  like .strip(), .lstrip() and .rstrip().\n",
    "# Example:  \n",
    "whitespace_string = \"\\t   This is some text    \\n\"\n",
    "print(\"\\nBefore stripping:\\n\", whitespace_string)\n",
    "stripped_text = whitespace_string.strip()\n",
    "print(\"\\nAfter stripping:\\n\", stripped_text)\n",
    "\n"
   ]
  },
  {
   "cell_type": "markdown",
   "metadata": {},
   "source": [
    "#### Datatype (Numbers)"
   ]
  },
  {
   "cell_type": "code",
   "execution_count": 21,
   "metadata": {},
   "outputs": [
    {
     "name": "stdout",
     "output_type": "stream",
     "text": [
      "<class 'int'>\n",
      "<class 'float'>\n",
      "<class 'str'> 5\n",
      "<class 'int'> 5\n",
      "<class 'int'> 345\n",
      "<class 'str'> 345.12\n",
      "Sum of numbers :  350.12\n",
      "Difference of numbers :  -340.12\n",
      "Product of numbers :  1725.6\n",
      "Quotient of numbers :  0.014487714418173389\n",
      "Remainder of division :  5.0\n",
      "Result of Power operation:  1.6924969566972042e+241\n",
      "\n",
      "Addition :  15.0\n",
      "Subtraction :  -5.0\n",
      "Multiplication :  50.0\n",
      "Division :  0.5\n",
      " \n",
      "P.M.D.A.S Example\n",
      "16\n",
      "512\n",
      "40.0\n",
      "4\n"
     ]
    }
   ],
   "source": [
    "# There two main number based data types in python. \n",
    "# Example:  int, float\n",
    "\n",
    "# Integer (int) - It is used to represent whole numbers or positive and negative integers without decimals.\n",
    "num1 = 5\n",
    "print(type(num1))   # <class 'int'>\n",
    "\n",
    "# Float (float) - It is a real number that can have decimal points.\n",
    "num2 = 345.12\n",
    "print(type(num2))    #<class 'float'>\n",
    "\n",
    "# Conversion between Data Types\n",
    "# You can convert one data type into another using built-in functions.\n",
    "# To Convert an integer to String\n",
    "str_num = str(num1)\n",
    "print(type(str_num), str_num)     # <class 'str'> 567890\n",
    "\n",
    "# To Convert a string to Integer\n",
    "int_num = int(str_num)\n",
    "print(type(int_num), int_num)      # <class 'int'> 567890\n",
    "\n",
    "# To Convert a Float to Integer (By removing the decimal part)\n",
    "whole_num = int(num2)\n",
    "print(type(whole_num), whole_num)  # <class 'int'> 345\n",
    "\n",
    "# To Convert a Float to String\n",
    "str_num_again = str(num2)\n",
    "print(type(str_num_again), str_num_again)     # <class 'str'> 345.123987654321\n",
    "\n",
    "# Arithmetic Operations on Numbers\n",
    "# Python supports basic arithmetic operations like addition, subtraction, multiplication, division etc.\n",
    "sum_of_numbers = num1 + num2\n",
    "difference_of_numbers = num1 - num2\n",
    "product_of_numbers = num1 * num2\n",
    "quotient_of_numbers = num1 / num2\n",
    "remainder_of_division = num1 % num2\n",
    "result_of_power = num1 ** num2\n",
    "\n",
    "print(\"Sum of numbers : \", sum_of_numbers)\n",
    "print(\"Difference of numbers : \", difference_of_numbers)\n",
    "print(\"Product of numbers : \", product_of_numbers)\n",
    "print(\"Quotient of numbers : \", quotient_of_numbers)\n",
    "print(\"Remainder of division : \", remainder_of_division)\n",
    "print(\"Result of Power operation: \", result_of_power)\n",
    "\n",
    "# Another example of arithmetic operations in python with addition of taking user input\n",
    "user_input = input(\"Enter two numbers separated by space : \")\n",
    "first_number = float(user_input.split()[0])   # Extracting first number from the given input\n",
    "second_number = float(user_input.split()[1])  # Extracting second number from the given input\n",
    "\n",
    "print(\"\\nAddition : \", first_number + second_number)\n",
    "print(\"Subtraction : \", first_number - second_number)\n",
    "print(\"Multiplication : \", first_number * second_number)\n",
    "print(\"Division : \", first_number / second_number)    # It will show floating point value as output due to division.\n",
    "\n",
    "\n",
    "# All programming languages support P.M.D.A.S . i.e., Parentheses, Multiplication/Division, Addition/Subtraction.\n",
    "# P.M.D.A.S Example: \n",
    "print(\"\\nP.M.D.A.S Example\")\n",
    "# Parentheses\n",
    "print((3 + 5) * 2)  # Output: 16\n",
    "# Exponents\n",
    "print(2 ** 3 ** 2)  # Output: 512\n",
    "# Multiplication and Division (from left to right)\n",
    "print(100 * 2 / 5)  # Output: 40.0\n",
    "# Addition and Subtraction (from left to right)\n",
    "print(2 + 2 - 1 + 1)  # Output: 4\n"
   ]
  },
  {
   "cell_type": "markdown",
   "metadata": {},
   "source": [
    "### List (Python build-in data srtucture like an Array)"
   ]
  },
  {
   "cell_type": "code",
   "execution_count": 1,
   "metadata": {},
   "outputs": [
    {
     "name": "stdout",
     "output_type": "stream",
     "text": [
      "<class 'list'>\n",
      "10\n",
      "Hello\n",
      "1\n",
      "The second value in the list is 'Hello'\n"
     ]
    }
   ],
   "source": [
    "# List allows us to store  multiple values in a single variable. List is mutable, meaning we can change its content without creating a new object    \n",
    "# In Python, we can use the list data type to create lists and perform operations on them.\n",
    "\n",
    "my_list = [10, \"Hello\", True]   # A list containing integers, string and boolean value\n",
    "# unlike an array list is heterogenous in nature. it means it can have multiple values of multiple type in it at the same time.\n",
    "print(type(my_list))          # <class 'list'>\n",
    "\n",
    "# Accessing elements of a list:\n",
    "# We can access elements of list using index or by value.\n",
    "# Indexing is done with square brackets [].  \n",
    "# We access individual elements using their index position (starting from 0).\n",
    "\n",
    "element = my_list[0]         # element will be 10 as it is the first element of the list\n",
    "print(element)               # 10\n",
    "\n",
    "second_element = my_list[1]  # second_element will be \"Hello\" as it is the second element of the list\n",
    "print(second_element)        # Hello\n",
    "\n",
    "index = my_list.index('Hello') # Finding the index of the value\n",
    "print(index)                   # 1\n",
    "\n",
    "# Using individual values from the list\n",
    "print(\"The second value in the list is \" + \"'\" +my_list[1] + \"'\")"
   ]
  },
  {
   "cell_type": "markdown",
   "metadata": {},
   "source": [
    "#### Example"
   ]
  },
  {
   "cell_type": "code",
   "execution_count": 47,
   "metadata": {},
   "outputs": [
    {
     "name": "stdout",
     "output_type": "stream",
     "text": [
      "The Whole List ['Honda', 'Yamaha', 'Harley Davidson', 'Suzuki']\n",
      "Added a new value at a specific position in the list using 'insert' ['Honda', 'Yamaha', 'Harley Davidson', 'Ducati', 'Suzuki']\n",
      "The last motorcycle I owned was a Suzuki.\n",
      "The first motorcycle I owned was a Yamaha.\n",
      "A Ducati is too expensive for me\n",
      "After removing values from the list ['Harley Davidson']\n",
      "New list before sorting:  ['Harley Davidson', 'BMW', 'KTM', 'Honda', 'Kawasaki', 'Aprilia']\n",
      "After sorting the list:  ['Aprilia', 'BMW', 'Harley Davidson', 'Honda', 'KTM', 'Kawasaki']\n",
      "We can also sort it in reverse order:  ['Kawasaki', 'KTM', 'Honda', 'Harley Davidson', 'BMW', 'Aprilia']\n",
      "Here is the original list:  ['Kawasaki', 'KTM', 'Honda', 'Harley Davidson', 'BMW', 'Aprilia']\n",
      "Here is the sorted version:  ['Aprilia', 'BMW', 'Harley Davidson', 'Honda', 'KTM', 'Kawasaki']\n",
      "Here is the original list again:  ['Kawasaki', 'KTM', 'Honda', 'Harley Davidson', 'BMW', 'Aprilia']\n",
      "Original order of out list:  ['Kawasaki', 'KTM', 'Honda', 'Harley Davidson', 'BMW', 'Aprilia']\n",
      "Reversed list:  ['Aprilia', 'BMW', 'Harley Davidson', 'Honda', 'KTM', 'Kawasaki']\n",
      "Length of our list is:  6\n"
     ]
    }
   ],
   "source": [
    "# Let's create a better example with all the things that we can do in a list and how to use them.\n",
    "motorcycles = []\n",
    "# Adding elements to the list:\n",
    "# Add at the end of the list\n",
    "motorcycles.append(\"Honda\")\n",
    "motorcycles.append(\"Yamaha\")\n",
    "motorcycles.append(\"Harley Davidson\")\n",
    "motorcycles.append(\"Suzuki\")\n",
    "print(\"The Whole List\", motorcycles)\n",
    "motorcycles.insert(3, \"Ducati\")       # Insert at position 3 (beginning)\n",
    "print(\"Added a new value at a specific position in the list using 'insert'\", motorcycles)                    # Printing the entire list\n",
    "\n",
    "# Removing elements from the list\n",
    "del motorcycles[0]                   # Remove by index using 'del'\n",
    "last_owned = motorcycles.pop()                    # Remove the last element using the 'pop' function...it by-default behave's like this\n",
    "print(\"The last motorcycle I owned was a \" + last_owned.title() + \".\")\n",
    "# We can even give the 'pop' function a specific index to remove a value from the list . If no index is given it will return and remove the last element.\n",
    "first_owned = motorcycles.pop(0)\n",
    "print(\"The first motorcycle I owned was a \" +  first_owned.title() + \".\")\n",
    "too_expensive = \"Ducati\"\n",
    "motorcycles.remove(too_expensive)          # Remove by value using 'remove' (\"Ducati\")\n",
    "print(\"A \" + too_expensive.title() + \" is too expensive for me\")\n",
    "print(\"After removing values from the list\", motorcycles)\n",
    "\n",
    "# Organizing the list\n",
    "# Let's add some new values in the list first them sort them\n",
    "motorcycles.append(\"BMW\")\n",
    "motorcycles.append(\"KTM\")\n",
    "motorcycles.append(\"Honda\")\n",
    "motorcycles.append(\"Kawasaki\")\n",
    "motorcycles.append(\"Aprilia\")\n",
    "print(\"New list before sorting: \", motorcycles)\n",
    "# If you want to sort a list permanently then use 'sort' function, otherwise use 'sorted' \n",
    "motorcycles.sort()          # Here we have used the function 'sort' to sort our list\n",
    "print(\"After sorting the list: \", motorcycles)\n",
    "motorcycles.sort(reverse=True)  # Here we have used the function 'sort' to sort our list in reverse order\n",
    "print(\"We can also sort it in reverse order: \", motorcycles)\n",
    "\n",
    "# Now we are going to test the 'sorted' function  which returns a sorted copy of the list and doesn't affect the original one.\n",
    "print(\"Here is the original list: \", motorcycles) # As you can notice that we reverse sorted our list in the last line of code. Here we get that list as the original list.\n",
    "print(\"Here is the sorted version: \", sorted(motorcycles)) # Fun-Fact: 'Sorted' function also accepts the \"Reverse=True\" argument\n",
    "print(\"Here is the original list again: \", motorcycles)\n",
    "\n",
    "# Now let's try to reverse our list. This also permanently changes the order of our list.\n",
    "print(\"Original order of out list: \",  motorcycles)\n",
    "motorcycles.reverse()        \n",
    "print(\"Reversed list: \", motorcycles)\n",
    "\n",
    "\n",
    "# Let's find the length of our list. Using 'len' function\n",
    "print(\"Length of our list is: \", len(motorcycles))"
   ]
  },
  {
   "cell_type": "markdown",
   "metadata": {},
   "source": [
    "### Conditional Statements (Selection Statements) "
   ]
  },
  {
   "cell_type": "markdown",
   "metadata": {},
   "source": [
    "#### Conditional Tests"
   ]
  },
  {
   "cell_type": "code",
   "execution_count": 29,
   "metadata": {},
   "outputs": [
    {
     "name": "stdout",
     "output_type": "stream",
     "text": [
      "Checking equality using character & string value (Conditional operations)\n",
      "True\n",
      "False\n",
      "False\n",
      "\n",
      "Checking equality using numerical value (Conditional operations)\n",
      "False\n",
      "True\n",
      "True\n",
      "False\n",
      "True\n",
      "True\n",
      "\n",
      "Checking equality using numerical value (Logical operations)\n",
      "False\n",
      "True\n",
      "False\n"
     ]
    }
   ],
   "source": [
    "car = \"bmw\"\n",
    "print(\"Checking equality using character & string value (Conditional operations)\")\n",
    "# Checking for equality\n",
    "print(car == 'bmw') # Equal\n",
    "print(car == 'honda')\n",
    "# Checking for inequality\n",
    "print(car != 'bmw') # Not Equal\n",
    "\n",
    "# Same like above, we can also check for equality or inequality in numerical values. \n",
    "age = 23\n",
    "print(\"\\nChecking equality using numerical value (Conditional operations)\")\n",
    "print(age == 15) # Equal\n",
    "print(age != 20) # Not Equal\n",
    "print(age > 22) # Greater then\n",
    "print(age < 23) # Less then\n",
    "print(age <= 23) # Less then equal to\n",
    "print(age >=  23) # Greater than equal to\n",
    "\n",
    "# Now let's do the same thing with logical operators\n",
    "print(\"\\nChecking equality using numerical value (Logical operations)\")\n",
    "print(age > 30 and age < 20) # ANd (Returns true if both statements are true)\n",
    "print(age > 20 or age < 20) # OR (Returns true if one of the statements is true)\n",
    "print(not(age > 20 or age < 20)) # NOT (Reverse the result, returns false if the result is true)\n",
    "\n",
    "# In combination of the above arithmetic, conditional and logical operations together, we can create complex boolean expressions. for our conditional statements.\n"
   ]
  },
  {
   "cell_type": "markdown",
   "metadata": {},
   "source": [
    "#### If. else, & elif Statements"
   ]
  },
  {
   "cell_type": "code",
   "execution_count": 30,
   "metadata": {},
   "outputs": [
    {
     "name": "stdout",
     "output_type": "stream",
     "text": [
      "The list has Toyota in it\n",
      "I have never owned a honda in my life but i'm open to trying one\n",
      "I have never owned a honda in my life but i'm open to trying one\n",
      "I have never owned a honda in my life but i'm open to trying one\n"
     ]
    }
   ],
   "source": [
    "# Conditional statements are one of the most important concepts in programming. A conditional statement is a type of control flow that allows us to execute different blocks of code based on certain conditions being met or not. There are three types of  conditional statements: if, else and elif (else if).\n",
    "\n",
    "# Example for \"if\" condition:\n",
    "# Let's continue the same theme of cars in our example from our previous section.\n",
    "cars = ['audi', 'bmw', 'toyota']\n",
    "if 'toyota' in cars:\n",
    "    print(\"The list has Toyota in it\")\n",
    "    \n",
    "# Example for \"if-else\" condition:\n",
    "if 'honda' in cars:\n",
    "    print('I use to have a honda')\n",
    "else:\n",
    "    print(\"I have never owned a honda in my life but i'm open to trying one\")\n",
    "\n",
    "# Example for \"elif\" condition:\n",
    "if 'honda' in cars:\n",
    "    print('I use to have a honda')\n",
    "elif 'honda' not in cars:\n",
    "    print(\"I have never owned a honda in my life but i'm open to trying one\")\n",
    "    \n",
    "# Example \"elif\" condition with else in it:\n",
    "if 'honda' in cars:\n",
    "    print('I use to have a honda')\n",
    "elif 'honda' not in cars:\n",
    "    print(\"I have never owned a honda in my life but i'm open to trying one\")\n",
    "else: \n",
    "    print(\"I don't have a preference for any specific car brand\") \n",
    "\n",
    "\n",
    "# The above example is very simple just to giv ein idea what are selection statements and how to use them.\n",
    "# We can use if condition in many ways like with loops, list, or any other data structure according to our requirements. we can also created nested version of these statements.\n",
    "\n"
   ]
  },
  {
   "cell_type": "code",
   "execution_count": null,
   "metadata": {},
   "outputs": [],
   "source": []
  }
 ],
 "metadata": {
  "kernelspec": {
   "display_name": "base",
   "language": "python",
   "name": "python3"
  },
  "language_info": {
   "codemirror_mode": {
    "name": "ipython",
    "version": 3
   },
   "file_extension": ".py",
   "mimetype": "text/x-python",
   "name": "python",
   "nbconvert_exporter": "python",
   "pygments_lexer": "ipython3",
   "version": "3.9.18"
  }
 },
 "nbformat": 4,
 "nbformat_minor": 2
}
